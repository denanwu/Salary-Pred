{
  "nbformat": 4,
  "nbformat_minor": 0,
  "metadata": {
    "kernelspec": {
      "display_name": "Python 3",
      "language": "python",
      "name": "python3"
    },
    "language_info": {
      "codemirror_mode": {
        "name": "ipython",
        "version": 3
      },
      "file_extension": ".py",
      "mimetype": "text/x-python",
      "name": "python",
      "nbconvert_exporter": "python",
      "pygments_lexer": "ipython3",
      "version": "3.7.4"
    },
    "colab": {
      "name": "Salary Prediction.ipynb",
      "provenance": []
    }
  },
  "cells": [
    {
      "cell_type": "markdown",
      "metadata": {
        "id": "nbrXbF5-_9U_",
        "colab_type": "text"
      },
      "source": [
        "# Salary Predction "
      ]
    },
    {
      "cell_type": "markdown",
      "metadata": {
        "id": "PR8Vmjta_9VD",
        "colab_type": "text"
      },
      "source": [
        "## Define the problem \n",
        "### As a Data scientist, how would you examine a set of job postings and then predict salaries for a new set of job postings?"
      ]
    },
    {
      "cell_type": "markdown",
      "metadata": {
        "id": "cRayQnt0_9VF",
        "colab_type": "text"
      },
      "source": [
        "### You must build a model to predict the salaries for the job postings contained in test_features.csv. The output of your system should be a CSV file entitled test_salaries.csv where each row has the following format: jobId, salary\n"
      ]
    },
    {
      "cell_type": "code",
      "metadata": {
        "id": "cKyE3896_9VH",
        "colab_type": "code",
        "colab": {}
      },
      "source": [
        "from IPython.display import Image"
      ],
      "execution_count": 0,
      "outputs": []
    },
    {
      "cell_type": "code",
      "metadata": {
        "id": "sIRuIBCv_9VN",
        "colab_type": "code",
        "outputId": "ad0f4b56-88a3-49ab-9e21-535b125608d6",
        "colab": {
          "base_uri": "https://localhost:8080/",
          "height": 1000
        }
      },
      "source": [
        "Image(url = \"https://insights.dice.com/wp-content/uploads/2019/01/Salary-Increase-Pay-Raise-Better-Pay-Dice.png\")"
      ],
      "execution_count": 2,
      "outputs": [
        {
          "output_type": "execute_result",
          "data": {
            "text/html": [
              "<img src=\"https://insights.dice.com/wp-content/uploads/2019/01/Salary-Increase-Pay-Raise-Better-Pay-Dice.png\"/>"
            ],
            "text/plain": [
              "<IPython.core.display.Image object>"
            ]
          },
          "metadata": {
            "tags": []
          },
          "execution_count": 2
        }
      ]
    },
    {
      "cell_type": "markdown",
      "metadata": {
        "id": "cuwJaynW_9VW",
        "colab_type": "text"
      },
      "source": [
        "## 1. Explore Data Analysis"
      ]
    },
    {
      "cell_type": "markdown",
      "metadata": {
        "id": "AXRYNyBv_9VY",
        "colab_type": "text"
      },
      "source": [
        "## 1.1 Load the Data"
      ]
    },
    {
      "cell_type": "code",
      "metadata": {
        "id": "WEXz43l1_9VZ",
        "colab_type": "code",
        "outputId": "f3ddc432-3864-4880-9905-7e38ea201ea5",
        "colab": {
          "base_uri": "https://localhost:8080/",
          "height": 177
        }
      },
      "source": [
        "import pandas as pd \n",
        "import numpy as np\n",
        "import matplotlib.pyplot as plt\n",
        "import seaborn as sns\n",
        "%matplotlib inline\n",
        "from google.colab import drive \n",
        "drive.mount('/content/gdrive')\n"
      ],
      "execution_count": 3,
      "outputs": [
        {
          "output_type": "stream",
          "text": [
            "/usr/local/lib/python3.6/dist-packages/statsmodels/tools/_testing.py:19: FutureWarning: pandas.util.testing is deprecated. Use the functions in the public API at pandas.testing instead.\n",
            "  import pandas.util.testing as tm\n"
          ],
          "name": "stderr"
        },
        {
          "output_type": "stream",
          "text": [
            "Go to this URL in a browser: https://accounts.google.com/o/oauth2/auth?client_id=947318989803-6bn6qk8qdgf4n4g3pfee6491hc0brc4i.apps.googleusercontent.com&redirect_uri=urn%3aietf%3awg%3aoauth%3a2.0%3aoob&response_type=code&scope=email%20https%3a%2f%2fwww.googleapis.com%2fauth%2fdocs.test%20https%3a%2f%2fwww.googleapis.com%2fauth%2fdrive%20https%3a%2f%2fwww.googleapis.com%2fauth%2fdrive.photos.readonly%20https%3a%2f%2fwww.googleapis.com%2fauth%2fpeopleapi.readonly\n",
            "\n",
            "Enter your authorization code:\n",
            "··········\n",
            "Mounted at /content/gdrive\n"
          ],
          "name": "stdout"
        }
      ]
    },
    {
      "cell_type": "code",
      "metadata": {
        "id": "YwauhNhR_9Vh",
        "colab_type": "code",
        "colab": {}
      },
      "source": [
        "# Read in files and print in info\n",
        "train_feature=pd.read_csv('gdrive/My Drive/train_features.csv')\n",
        "test_feature=pd.read_csv('gdrive/My Drive/test_features.csv')\n",
        "target_feature = pd.read_csv('gdrive/My Drive/train_salaries.csv')"
      ],
      "execution_count": 0,
      "outputs": []
    },
    {
      "cell_type": "markdown",
      "metadata": {
        "id": "44BY4GQ-_9Vp",
        "colab_type": "text"
      },
      "source": [
        "## 1.2 Examine the data"
      ]
    },
    {
      "cell_type": "code",
      "metadata": {
        "id": "aymniJbK_9Vt",
        "colab_type": "code",
        "outputId": "d9716072-ef5d-4692-cc94-9212faeda34e",
        "colab": {
          "base_uri": "https://localhost:8080/",
          "height": 210
        }
      },
      "source": [
        "train_feature.head()"
      ],
      "execution_count": 5,
      "outputs": [
        {
          "output_type": "execute_result",
          "data": {
            "text/html": [
              "<div>\n",
              "<style scoped>\n",
              "    .dataframe tbody tr th:only-of-type {\n",
              "        vertical-align: middle;\n",
              "    }\n",
              "\n",
              "    .dataframe tbody tr th {\n",
              "        vertical-align: top;\n",
              "    }\n",
              "\n",
              "    .dataframe thead th {\n",
              "        text-align: right;\n",
              "    }\n",
              "</style>\n",
              "<table border=\"1\" class=\"dataframe\">\n",
              "  <thead>\n",
              "    <tr style=\"text-align: right;\">\n",
              "      <th></th>\n",
              "      <th>jobId</th>\n",
              "      <th>companyId</th>\n",
              "      <th>jobType</th>\n",
              "      <th>degree</th>\n",
              "      <th>major</th>\n",
              "      <th>industry</th>\n",
              "      <th>yearsExperience</th>\n",
              "      <th>milesFromMetropolis</th>\n",
              "    </tr>\n",
              "  </thead>\n",
              "  <tbody>\n",
              "    <tr>\n",
              "      <th>0</th>\n",
              "      <td>JOB1362684407687</td>\n",
              "      <td>COMP37</td>\n",
              "      <td>CFO</td>\n",
              "      <td>MASTERS</td>\n",
              "      <td>MATH</td>\n",
              "      <td>HEALTH</td>\n",
              "      <td>10</td>\n",
              "      <td>83</td>\n",
              "    </tr>\n",
              "    <tr>\n",
              "      <th>1</th>\n",
              "      <td>JOB1362684407688</td>\n",
              "      <td>COMP19</td>\n",
              "      <td>CEO</td>\n",
              "      <td>HIGH_SCHOOL</td>\n",
              "      <td>NONE</td>\n",
              "      <td>WEB</td>\n",
              "      <td>3</td>\n",
              "      <td>73</td>\n",
              "    </tr>\n",
              "    <tr>\n",
              "      <th>2</th>\n",
              "      <td>JOB1362684407689</td>\n",
              "      <td>COMP52</td>\n",
              "      <td>VICE_PRESIDENT</td>\n",
              "      <td>DOCTORAL</td>\n",
              "      <td>PHYSICS</td>\n",
              "      <td>HEALTH</td>\n",
              "      <td>10</td>\n",
              "      <td>38</td>\n",
              "    </tr>\n",
              "    <tr>\n",
              "      <th>3</th>\n",
              "      <td>JOB1362684407690</td>\n",
              "      <td>COMP38</td>\n",
              "      <td>MANAGER</td>\n",
              "      <td>DOCTORAL</td>\n",
              "      <td>CHEMISTRY</td>\n",
              "      <td>AUTO</td>\n",
              "      <td>8</td>\n",
              "      <td>17</td>\n",
              "    </tr>\n",
              "    <tr>\n",
              "      <th>4</th>\n",
              "      <td>JOB1362684407691</td>\n",
              "      <td>COMP7</td>\n",
              "      <td>VICE_PRESIDENT</td>\n",
              "      <td>BACHELORS</td>\n",
              "      <td>PHYSICS</td>\n",
              "      <td>FINANCE</td>\n",
              "      <td>8</td>\n",
              "      <td>16</td>\n",
              "    </tr>\n",
              "  </tbody>\n",
              "</table>\n",
              "</div>"
            ],
            "text/plain": [
              "              jobId companyId  ... yearsExperience milesFromMetropolis\n",
              "0  JOB1362684407687    COMP37  ...              10                  83\n",
              "1  JOB1362684407688    COMP19  ...               3                  73\n",
              "2  JOB1362684407689    COMP52  ...              10                  38\n",
              "3  JOB1362684407690    COMP38  ...               8                  17\n",
              "4  JOB1362684407691     COMP7  ...               8                  16\n",
              "\n",
              "[5 rows x 8 columns]"
            ]
          },
          "metadata": {
            "tags": []
          },
          "execution_count": 5
        }
      ]
    },
    {
      "cell_type": "code",
      "metadata": {
        "id": "BgSR55Hp_9V1",
        "colab_type": "code",
        "outputId": "97985384-7705-4087-b5eb-c45e43a4202a",
        "colab": {
          "base_uri": "https://localhost:8080/",
          "height": 210
        }
      },
      "source": [
        "test_feature.head()"
      ],
      "execution_count": 6,
      "outputs": [
        {
          "output_type": "execute_result",
          "data": {
            "text/html": [
              "<div>\n",
              "<style scoped>\n",
              "    .dataframe tbody tr th:only-of-type {\n",
              "        vertical-align: middle;\n",
              "    }\n",
              "\n",
              "    .dataframe tbody tr th {\n",
              "        vertical-align: top;\n",
              "    }\n",
              "\n",
              "    .dataframe thead th {\n",
              "        text-align: right;\n",
              "    }\n",
              "</style>\n",
              "<table border=\"1\" class=\"dataframe\">\n",
              "  <thead>\n",
              "    <tr style=\"text-align: right;\">\n",
              "      <th></th>\n",
              "      <th>jobId</th>\n",
              "      <th>companyId</th>\n",
              "      <th>jobType</th>\n",
              "      <th>degree</th>\n",
              "      <th>major</th>\n",
              "      <th>industry</th>\n",
              "      <th>yearsExperience</th>\n",
              "      <th>milesFromMetropolis</th>\n",
              "    </tr>\n",
              "  </thead>\n",
              "  <tbody>\n",
              "    <tr>\n",
              "      <th>0</th>\n",
              "      <td>JOB1362685407687</td>\n",
              "      <td>COMP33</td>\n",
              "      <td>MANAGER</td>\n",
              "      <td>HIGH_SCHOOL</td>\n",
              "      <td>NONE</td>\n",
              "      <td>HEALTH</td>\n",
              "      <td>22</td>\n",
              "      <td>73</td>\n",
              "    </tr>\n",
              "    <tr>\n",
              "      <th>1</th>\n",
              "      <td>JOB1362685407688</td>\n",
              "      <td>COMP13</td>\n",
              "      <td>JUNIOR</td>\n",
              "      <td>NONE</td>\n",
              "      <td>NONE</td>\n",
              "      <td>AUTO</td>\n",
              "      <td>20</td>\n",
              "      <td>47</td>\n",
              "    </tr>\n",
              "    <tr>\n",
              "      <th>2</th>\n",
              "      <td>JOB1362685407689</td>\n",
              "      <td>COMP10</td>\n",
              "      <td>CTO</td>\n",
              "      <td>MASTERS</td>\n",
              "      <td>BIOLOGY</td>\n",
              "      <td>HEALTH</td>\n",
              "      <td>17</td>\n",
              "      <td>9</td>\n",
              "    </tr>\n",
              "    <tr>\n",
              "      <th>3</th>\n",
              "      <td>JOB1362685407690</td>\n",
              "      <td>COMP21</td>\n",
              "      <td>MANAGER</td>\n",
              "      <td>HIGH_SCHOOL</td>\n",
              "      <td>NONE</td>\n",
              "      <td>OIL</td>\n",
              "      <td>14</td>\n",
              "      <td>96</td>\n",
              "    </tr>\n",
              "    <tr>\n",
              "      <th>4</th>\n",
              "      <td>JOB1362685407691</td>\n",
              "      <td>COMP36</td>\n",
              "      <td>JUNIOR</td>\n",
              "      <td>DOCTORAL</td>\n",
              "      <td>BIOLOGY</td>\n",
              "      <td>OIL</td>\n",
              "      <td>10</td>\n",
              "      <td>44</td>\n",
              "    </tr>\n",
              "  </tbody>\n",
              "</table>\n",
              "</div>"
            ],
            "text/plain": [
              "              jobId companyId  ... yearsExperience milesFromMetropolis\n",
              "0  JOB1362685407687    COMP33  ...              22                  73\n",
              "1  JOB1362685407688    COMP13  ...              20                  47\n",
              "2  JOB1362685407689    COMP10  ...              17                   9\n",
              "3  JOB1362685407690    COMP21  ...              14                  96\n",
              "4  JOB1362685407691    COMP36  ...              10                  44\n",
              "\n",
              "[5 rows x 8 columns]"
            ]
          },
          "metadata": {
            "tags": []
          },
          "execution_count": 6
        }
      ]
    },
    {
      "cell_type": "code",
      "metadata": {
        "id": "1egbI3G6_9V7",
        "colab_type": "code",
        "outputId": "9f512fca-f6a2-463d-d7a4-960716183575",
        "colab": {
          "base_uri": "https://localhost:8080/",
          "height": 210
        }
      },
      "source": [
        "target_feature.head()"
      ],
      "execution_count": 7,
      "outputs": [
        {
          "output_type": "execute_result",
          "data": {
            "text/html": [
              "<div>\n",
              "<style scoped>\n",
              "    .dataframe tbody tr th:only-of-type {\n",
              "        vertical-align: middle;\n",
              "    }\n",
              "\n",
              "    .dataframe tbody tr th {\n",
              "        vertical-align: top;\n",
              "    }\n",
              "\n",
              "    .dataframe thead th {\n",
              "        text-align: right;\n",
              "    }\n",
              "</style>\n",
              "<table border=\"1\" class=\"dataframe\">\n",
              "  <thead>\n",
              "    <tr style=\"text-align: right;\">\n",
              "      <th></th>\n",
              "      <th>jobId</th>\n",
              "      <th>salary</th>\n",
              "    </tr>\n",
              "  </thead>\n",
              "  <tbody>\n",
              "    <tr>\n",
              "      <th>0</th>\n",
              "      <td>JOB1362684407687</td>\n",
              "      <td>130</td>\n",
              "    </tr>\n",
              "    <tr>\n",
              "      <th>1</th>\n",
              "      <td>JOB1362684407688</td>\n",
              "      <td>101</td>\n",
              "    </tr>\n",
              "    <tr>\n",
              "      <th>2</th>\n",
              "      <td>JOB1362684407689</td>\n",
              "      <td>137</td>\n",
              "    </tr>\n",
              "    <tr>\n",
              "      <th>3</th>\n",
              "      <td>JOB1362684407690</td>\n",
              "      <td>142</td>\n",
              "    </tr>\n",
              "    <tr>\n",
              "      <th>4</th>\n",
              "      <td>JOB1362684407691</td>\n",
              "      <td>163</td>\n",
              "    </tr>\n",
              "  </tbody>\n",
              "</table>\n",
              "</div>"
            ],
            "text/plain": [
              "              jobId  salary\n",
              "0  JOB1362684407687     130\n",
              "1  JOB1362684407688     101\n",
              "2  JOB1362684407689     137\n",
              "3  JOB1362684407690     142\n",
              "4  JOB1362684407691     163"
            ]
          },
          "metadata": {
            "tags": []
          },
          "execution_count": 7
        }
      ]
    },
    {
      "cell_type": "code",
      "metadata": {
        "id": "DWRas5qW_9WA",
        "colab_type": "code",
        "outputId": "ebf1d061-697c-47e2-bf75-abc6546d5394",
        "colab": {
          "base_uri": "https://localhost:8080/",
          "height": 317
        }
      },
      "source": [
        "train_feature.info()"
      ],
      "execution_count": 8,
      "outputs": [
        {
          "output_type": "stream",
          "text": [
            "<class 'pandas.core.frame.DataFrame'>\n",
            "RangeIndex: 1000000 entries, 0 to 999999\n",
            "Data columns (total 8 columns):\n",
            " #   Column               Non-Null Count    Dtype \n",
            "---  ------               --------------    ----- \n",
            " 0   jobId                1000000 non-null  object\n",
            " 1   companyId            1000000 non-null  object\n",
            " 2   jobType              1000000 non-null  object\n",
            " 3   degree               1000000 non-null  object\n",
            " 4   major                1000000 non-null  object\n",
            " 5   industry             1000000 non-null  object\n",
            " 6   yearsExperience      1000000 non-null  int64 \n",
            " 7   milesFromMetropolis  1000000 non-null  int64 \n",
            "dtypes: int64(2), object(6)\n",
            "memory usage: 61.0+ MB\n"
          ],
          "name": "stdout"
        }
      ]
    },
    {
      "cell_type": "code",
      "metadata": {
        "id": "8a1My-5d_9WJ",
        "colab_type": "code",
        "outputId": "366b1674-2a50-45c4-c9af-7b6082a2a5c1",
        "colab": {
          "base_uri": "https://localhost:8080/",
          "height": 317
        }
      },
      "source": [
        "test_feature.info()"
      ],
      "execution_count": 9,
      "outputs": [
        {
          "output_type": "stream",
          "text": [
            "<class 'pandas.core.frame.DataFrame'>\n",
            "RangeIndex: 1000000 entries, 0 to 999999\n",
            "Data columns (total 8 columns):\n",
            " #   Column               Non-Null Count    Dtype \n",
            "---  ------               --------------    ----- \n",
            " 0   jobId                1000000 non-null  object\n",
            " 1   companyId            1000000 non-null  object\n",
            " 2   jobType              1000000 non-null  object\n",
            " 3   degree               1000000 non-null  object\n",
            " 4   major                1000000 non-null  object\n",
            " 5   industry             1000000 non-null  object\n",
            " 6   yearsExperience      1000000 non-null  int64 \n",
            " 7   milesFromMetropolis  1000000 non-null  int64 \n",
            "dtypes: int64(2), object(6)\n",
            "memory usage: 61.0+ MB\n"
          ],
          "name": "stdout"
        }
      ]
    },
    {
      "cell_type": "code",
      "metadata": {
        "id": "Y3SxAIDX_9WO",
        "colab_type": "code",
        "outputId": "d9d4e332-9324-4e1e-c202-1cb4308afe5d",
        "colab": {
          "base_uri": "https://localhost:8080/",
          "height": 197
        }
      },
      "source": [
        "target_feature.info()"
      ],
      "execution_count": 10,
      "outputs": [
        {
          "output_type": "stream",
          "text": [
            "<class 'pandas.core.frame.DataFrame'>\n",
            "RangeIndex: 1000000 entries, 0 to 999999\n",
            "Data columns (total 2 columns):\n",
            " #   Column  Non-Null Count    Dtype \n",
            "---  ------  --------------    ----- \n",
            " 0   jobId   1000000 non-null  object\n",
            " 1   salary  1000000 non-null  int64 \n",
            "dtypes: int64(1), object(1)\n",
            "memory usage: 15.3+ MB\n"
          ],
          "name": "stdout"
        }
      ]
    },
    {
      "cell_type": "code",
      "metadata": {
        "id": "sZdY0IDX_9WU",
        "colab_type": "code",
        "outputId": "510c443a-8e3a-4bee-bdb5-846d36934127",
        "colab": {
          "base_uri": "https://localhost:8080/",
          "height": 37
        }
      },
      "source": [
        "train_feature.duplicated().sum()"
      ],
      "execution_count": 11,
      "outputs": [
        {
          "output_type": "execute_result",
          "data": {
            "text/plain": [
              "0"
            ]
          },
          "metadata": {
            "tags": []
          },
          "execution_count": 11
        }
      ]
    },
    {
      "cell_type": "code",
      "metadata": {
        "id": "V0RhZ9D3_9Wc",
        "colab_type": "code",
        "outputId": "e408fc75-6159-416f-ac80-d6617120d911",
        "colab": {
          "base_uri": "https://localhost:8080/",
          "height": 37
        }
      },
      "source": [
        "test_feature.duplicated().sum()"
      ],
      "execution_count": 12,
      "outputs": [
        {
          "output_type": "execute_result",
          "data": {
            "text/plain": [
              "0"
            ]
          },
          "metadata": {
            "tags": []
          },
          "execution_count": 12
        }
      ]
    },
    {
      "cell_type": "code",
      "metadata": {
        "id": "gWvrmpr8_9Wj",
        "colab_type": "code",
        "outputId": "ba822243-709d-457f-8332-db0a39d651b2",
        "colab": {
          "base_uri": "https://localhost:8080/",
          "height": 37
        }
      },
      "source": [
        "target_feature.duplicated().sum()"
      ],
      "execution_count": 13,
      "outputs": [
        {
          "output_type": "execute_result",
          "data": {
            "text/plain": [
              "0"
            ]
          },
          "metadata": {
            "tags": []
          },
          "execution_count": 13
        }
      ]
    },
    {
      "cell_type": "markdown",
      "metadata": {
        "id": "_x4oNu5M_9Wq",
        "colab_type": "text"
      },
      "source": [
        "### 1.2.1 Identify numerical and categorical variables"
      ]
    },
    {
      "cell_type": "code",
      "metadata": {
        "id": "1a-V3KcC_9Wt",
        "colab_type": "code",
        "outputId": "212b16c3-afa9-4c83-95d7-bd3c9e5c9e3b",
        "colab": {
          "base_uri": "https://localhost:8080/",
          "height": 77
        }
      },
      "source": [
        "train_feature.columns"
      ],
      "execution_count": 14,
      "outputs": [
        {
          "output_type": "execute_result",
          "data": {
            "text/plain": [
              "Index(['jobId', 'companyId', 'jobType', 'degree', 'major', 'industry',\n",
              "       'yearsExperience', 'milesFromMetropolis'],\n",
              "      dtype='object')"
            ]
          },
          "metadata": {
            "tags": []
          },
          "execution_count": 14
        }
      ]
    },
    {
      "cell_type": "code",
      "metadata": {
        "id": "CMxuGTKa_9W0",
        "colab_type": "code",
        "colab": {}
      },
      "source": [
        "numerical_cols = ['yearsExperience','milesFromMetropolis']"
      ],
      "execution_count": 0,
      "outputs": []
    },
    {
      "cell_type": "code",
      "metadata": {
        "id": "Mkx9smbl_9W6",
        "colab_type": "code",
        "colab": {}
      },
      "source": [
        "categorical_cols = ['jobId', 'companyId', 'jobType', 'degree', 'major', 'industry']"
      ],
      "execution_count": 0,
      "outputs": []
    },
    {
      "cell_type": "markdown",
      "metadata": {
        "id": "I-KT11pR_9W_",
        "colab_type": "text"
      },
      "source": [
        "### 1.2.2 Summarize numerical and categorical variables"
      ]
    },
    {
      "cell_type": "code",
      "metadata": {
        "id": "D-6TesJn_9XB",
        "colab_type": "code",
        "outputId": "7b2b7747-804d-4812-e2f9-ef0b17e204b4",
        "colab": {
          "base_uri": "https://localhost:8080/",
          "height": 306
        }
      },
      "source": [
        "train_feature.describe(include = [np.number])"
      ],
      "execution_count": 17,
      "outputs": [
        {
          "output_type": "execute_result",
          "data": {
            "text/html": [
              "<div>\n",
              "<style scoped>\n",
              "    .dataframe tbody tr th:only-of-type {\n",
              "        vertical-align: middle;\n",
              "    }\n",
              "\n",
              "    .dataframe tbody tr th {\n",
              "        vertical-align: top;\n",
              "    }\n",
              "\n",
              "    .dataframe thead th {\n",
              "        text-align: right;\n",
              "    }\n",
              "</style>\n",
              "<table border=\"1\" class=\"dataframe\">\n",
              "  <thead>\n",
              "    <tr style=\"text-align: right;\">\n",
              "      <th></th>\n",
              "      <th>yearsExperience</th>\n",
              "      <th>milesFromMetropolis</th>\n",
              "    </tr>\n",
              "  </thead>\n",
              "  <tbody>\n",
              "    <tr>\n",
              "      <th>count</th>\n",
              "      <td>1000000.000000</td>\n",
              "      <td>1000000.000000</td>\n",
              "    </tr>\n",
              "    <tr>\n",
              "      <th>mean</th>\n",
              "      <td>11.992386</td>\n",
              "      <td>49.529260</td>\n",
              "    </tr>\n",
              "    <tr>\n",
              "      <th>std</th>\n",
              "      <td>7.212391</td>\n",
              "      <td>28.877733</td>\n",
              "    </tr>\n",
              "    <tr>\n",
              "      <th>min</th>\n",
              "      <td>0.000000</td>\n",
              "      <td>0.000000</td>\n",
              "    </tr>\n",
              "    <tr>\n",
              "      <th>25%</th>\n",
              "      <td>6.000000</td>\n",
              "      <td>25.000000</td>\n",
              "    </tr>\n",
              "    <tr>\n",
              "      <th>50%</th>\n",
              "      <td>12.000000</td>\n",
              "      <td>50.000000</td>\n",
              "    </tr>\n",
              "    <tr>\n",
              "      <th>75%</th>\n",
              "      <td>18.000000</td>\n",
              "      <td>75.000000</td>\n",
              "    </tr>\n",
              "    <tr>\n",
              "      <th>max</th>\n",
              "      <td>24.000000</td>\n",
              "      <td>99.000000</td>\n",
              "    </tr>\n",
              "  </tbody>\n",
              "</table>\n",
              "</div>"
            ],
            "text/plain": [
              "       yearsExperience  milesFromMetropolis\n",
              "count   1000000.000000       1000000.000000\n",
              "mean         11.992386            49.529260\n",
              "std           7.212391            28.877733\n",
              "min           0.000000             0.000000\n",
              "25%           6.000000            25.000000\n",
              "50%          12.000000            50.000000\n",
              "75%          18.000000            75.000000\n",
              "max          24.000000            99.000000"
            ]
          },
          "metadata": {
            "tags": []
          },
          "execution_count": 17
        }
      ]
    },
    {
      "cell_type": "code",
      "metadata": {
        "id": "UNg8ySXA_9XG",
        "colab_type": "code",
        "outputId": "fdfe1b26-2a00-4685-ee75-720f5c453675",
        "colab": {
          "base_uri": "https://localhost:8080/",
          "height": 178
        }
      },
      "source": [
        "train_feature.describe(include = ['O']) # include categorical columns"
      ],
      "execution_count": 18,
      "outputs": [
        {
          "output_type": "execute_result",
          "data": {
            "text/html": [
              "<div>\n",
              "<style scoped>\n",
              "    .dataframe tbody tr th:only-of-type {\n",
              "        vertical-align: middle;\n",
              "    }\n",
              "\n",
              "    .dataframe tbody tr th {\n",
              "        vertical-align: top;\n",
              "    }\n",
              "\n",
              "    .dataframe thead th {\n",
              "        text-align: right;\n",
              "    }\n",
              "</style>\n",
              "<table border=\"1\" class=\"dataframe\">\n",
              "  <thead>\n",
              "    <tr style=\"text-align: right;\">\n",
              "      <th></th>\n",
              "      <th>jobId</th>\n",
              "      <th>companyId</th>\n",
              "      <th>jobType</th>\n",
              "      <th>degree</th>\n",
              "      <th>major</th>\n",
              "      <th>industry</th>\n",
              "    </tr>\n",
              "  </thead>\n",
              "  <tbody>\n",
              "    <tr>\n",
              "      <th>count</th>\n",
              "      <td>1000000</td>\n",
              "      <td>1000000</td>\n",
              "      <td>1000000</td>\n",
              "      <td>1000000</td>\n",
              "      <td>1000000</td>\n",
              "      <td>1000000</td>\n",
              "    </tr>\n",
              "    <tr>\n",
              "      <th>unique</th>\n",
              "      <td>1000000</td>\n",
              "      <td>63</td>\n",
              "      <td>8</td>\n",
              "      <td>5</td>\n",
              "      <td>9</td>\n",
              "      <td>7</td>\n",
              "    </tr>\n",
              "    <tr>\n",
              "      <th>top</th>\n",
              "      <td>JOB1362685275061</td>\n",
              "      <td>COMP39</td>\n",
              "      <td>SENIOR</td>\n",
              "      <td>HIGH_SCHOOL</td>\n",
              "      <td>NONE</td>\n",
              "      <td>WEB</td>\n",
              "    </tr>\n",
              "    <tr>\n",
              "      <th>freq</th>\n",
              "      <td>1</td>\n",
              "      <td>16193</td>\n",
              "      <td>125886</td>\n",
              "      <td>236976</td>\n",
              "      <td>532355</td>\n",
              "      <td>143206</td>\n",
              "    </tr>\n",
              "  </tbody>\n",
              "</table>\n",
              "</div>"
            ],
            "text/plain": [
              "                   jobId companyId  jobType       degree    major industry\n",
              "count            1000000   1000000  1000000      1000000  1000000  1000000\n",
              "unique           1000000        63        8            5        9        7\n",
              "top     JOB1362685275061    COMP39   SENIOR  HIGH_SCHOOL     NONE      WEB\n",
              "freq                   1     16193   125886       236976   532355   143206"
            ]
          },
          "metadata": {
            "tags": []
          },
          "execution_count": 18
        }
      ]
    },
    {
      "cell_type": "markdown",
      "metadata": {
        "id": "_DUe631U_9XQ",
        "colab_type": "text"
      },
      "source": [
        "## 1.3 Merge features and targets into single dataframe"
      ]
    },
    {
      "cell_type": "code",
      "metadata": {
        "id": "o_HDyiiF_9XS",
        "colab_type": "code",
        "colab": {}
      },
      "source": [
        "#Merge the features and salaries on jobId,delete original file to save memory\n",
        "train = pd.merge(train_feature,target_feature, on='jobId')"
      ],
      "execution_count": 0,
      "outputs": []
    },
    {
      "cell_type": "code",
      "metadata": {
        "id": "IXIg89Jv_9Xa",
        "colab_type": "code",
        "colab": {}
      },
      "source": [
        "del train_feature\n",
        "del target_feature"
      ],
      "execution_count": 0,
      "outputs": []
    },
    {
      "cell_type": "code",
      "metadata": {
        "id": "vBhwgVqz_9Xi",
        "colab_type": "code",
        "outputId": "4fc8534f-8f40-4d0b-950d-982b69981747",
        "colab": {
          "base_uri": "https://localhost:8080/",
          "height": 337
        }
      },
      "source": [
        "train.info()"
      ],
      "execution_count": 21,
      "outputs": [
        {
          "output_type": "stream",
          "text": [
            "<class 'pandas.core.frame.DataFrame'>\n",
            "Int64Index: 1000000 entries, 0 to 999999\n",
            "Data columns (total 9 columns):\n",
            " #   Column               Non-Null Count    Dtype \n",
            "---  ------               --------------    ----- \n",
            " 0   jobId                1000000 non-null  object\n",
            " 1   companyId            1000000 non-null  object\n",
            " 2   jobType              1000000 non-null  object\n",
            " 3   degree               1000000 non-null  object\n",
            " 4   major                1000000 non-null  object\n",
            " 5   industry             1000000 non-null  object\n",
            " 6   yearsExperience      1000000 non-null  int64 \n",
            " 7   milesFromMetropolis  1000000 non-null  int64 \n",
            " 8   salary               1000000 non-null  int64 \n",
            "dtypes: int64(3), object(6)\n",
            "memory usage: 76.3+ MB\n"
          ],
          "name": "stdout"
        }
      ]
    },
    {
      "cell_type": "code",
      "metadata": {
        "id": "KwGJrpoJ_9Xn",
        "colab_type": "code",
        "outputId": "051fcdcd-7d9e-4c4c-db61-05199d4a93c3",
        "colab": {
          "base_uri": "https://localhost:8080/",
          "height": 210
        }
      },
      "source": [
        "train.head()"
      ],
      "execution_count": 22,
      "outputs": [
        {
          "output_type": "execute_result",
          "data": {
            "text/html": [
              "<div>\n",
              "<style scoped>\n",
              "    .dataframe tbody tr th:only-of-type {\n",
              "        vertical-align: middle;\n",
              "    }\n",
              "\n",
              "    .dataframe tbody tr th {\n",
              "        vertical-align: top;\n",
              "    }\n",
              "\n",
              "    .dataframe thead th {\n",
              "        text-align: right;\n",
              "    }\n",
              "</style>\n",
              "<table border=\"1\" class=\"dataframe\">\n",
              "  <thead>\n",
              "    <tr style=\"text-align: right;\">\n",
              "      <th></th>\n",
              "      <th>jobId</th>\n",
              "      <th>companyId</th>\n",
              "      <th>jobType</th>\n",
              "      <th>degree</th>\n",
              "      <th>major</th>\n",
              "      <th>industry</th>\n",
              "      <th>yearsExperience</th>\n",
              "      <th>milesFromMetropolis</th>\n",
              "      <th>salary</th>\n",
              "    </tr>\n",
              "  </thead>\n",
              "  <tbody>\n",
              "    <tr>\n",
              "      <th>0</th>\n",
              "      <td>JOB1362684407687</td>\n",
              "      <td>COMP37</td>\n",
              "      <td>CFO</td>\n",
              "      <td>MASTERS</td>\n",
              "      <td>MATH</td>\n",
              "      <td>HEALTH</td>\n",
              "      <td>10</td>\n",
              "      <td>83</td>\n",
              "      <td>130</td>\n",
              "    </tr>\n",
              "    <tr>\n",
              "      <th>1</th>\n",
              "      <td>JOB1362684407688</td>\n",
              "      <td>COMP19</td>\n",
              "      <td>CEO</td>\n",
              "      <td>HIGH_SCHOOL</td>\n",
              "      <td>NONE</td>\n",
              "      <td>WEB</td>\n",
              "      <td>3</td>\n",
              "      <td>73</td>\n",
              "      <td>101</td>\n",
              "    </tr>\n",
              "    <tr>\n",
              "      <th>2</th>\n",
              "      <td>JOB1362684407689</td>\n",
              "      <td>COMP52</td>\n",
              "      <td>VICE_PRESIDENT</td>\n",
              "      <td>DOCTORAL</td>\n",
              "      <td>PHYSICS</td>\n",
              "      <td>HEALTH</td>\n",
              "      <td>10</td>\n",
              "      <td>38</td>\n",
              "      <td>137</td>\n",
              "    </tr>\n",
              "    <tr>\n",
              "      <th>3</th>\n",
              "      <td>JOB1362684407690</td>\n",
              "      <td>COMP38</td>\n",
              "      <td>MANAGER</td>\n",
              "      <td>DOCTORAL</td>\n",
              "      <td>CHEMISTRY</td>\n",
              "      <td>AUTO</td>\n",
              "      <td>8</td>\n",
              "      <td>17</td>\n",
              "      <td>142</td>\n",
              "    </tr>\n",
              "    <tr>\n",
              "      <th>4</th>\n",
              "      <td>JOB1362684407691</td>\n",
              "      <td>COMP7</td>\n",
              "      <td>VICE_PRESIDENT</td>\n",
              "      <td>BACHELORS</td>\n",
              "      <td>PHYSICS</td>\n",
              "      <td>FINANCE</td>\n",
              "      <td>8</td>\n",
              "      <td>16</td>\n",
              "      <td>163</td>\n",
              "    </tr>\n",
              "  </tbody>\n",
              "</table>\n",
              "</div>"
            ],
            "text/plain": [
              "              jobId companyId  ... milesFromMetropolis salary\n",
              "0  JOB1362684407687    COMP37  ...                  83    130\n",
              "1  JOB1362684407688    COMP19  ...                  73    101\n",
              "2  JOB1362684407689    COMP52  ...                  38    137\n",
              "3  JOB1362684407690    COMP38  ...                  17    142\n",
              "4  JOB1362684407691     COMP7  ...                  16    163\n",
              "\n",
              "[5 rows x 9 columns]"
            ]
          },
          "metadata": {
            "tags": []
          },
          "execution_count": 22
        }
      ]
    },
    {
      "cell_type": "markdown",
      "metadata": {
        "id": "pp8B8Tpd_9Xt",
        "colab_type": "text"
      },
      "source": [
        "## 1.4 Visualize target variable (salary)"
      ]
    },
    {
      "cell_type": "code",
      "metadata": {
        "id": "Jcs3DDrF_9Xw",
        "colab_type": "code",
        "outputId": "274ebebb-de84-4b92-ec31-cab0954b93b4",
        "colab": {
          "base_uri": "https://localhost:8080/",
          "height": 334
        }
      },
      "source": [
        "plt.figure(figsize = (10,5))\n",
        "plt.subplot(1,2,1)\n",
        "sns.boxplot(train.salary)\n",
        "plt.subplot(1,2,2)\n",
        "sns.distplot(train.salary,bins = 20)\n",
        "plt.show()"
      ],
      "execution_count": 23,
      "outputs": [
        {
          "output_type": "display_data",
          "data": {
            "image/png": "[encoded data removed]",
            "text/plain": [
              "<Figure size 720x360 with 2 Axes>"
            ]
          },
          "metadata": {
            "tags": [],
            "needs_background": "light"
          }
        }
      ]
    },
    {
      "cell_type": "markdown",
      "metadata": {
        "id": "0IBhKS8X_9X7",
        "colab_type": "text"
      },
      "source": [
        "## 1.5 Examine potential outliers"
      ]
    },
    {
      "cell_type": "markdown",
      "metadata": {
        "id": "q8lThRLJ_9X-",
        "colab_type": "text"
      },
      "source": [
        "### 1.5.1 USE IQR rule to identify potential outliers"
      ]
    },
    {
      "cell_type": "code",
      "metadata": {
        "id": "ylVi4mTA_9YB",
        "colab_type": "code",
        "outputId": "78d0ee34-99d4-4cd8-851d-04b351ab28ca",
        "colab": {
          "base_uri": "https://localhost:8080/",
          "height": 217
        }
      },
      "source": [
        "stat = train.salary.describe()\n",
        "print(stat)\n",
        "IQR = stat['75%']- stat['25%']\n",
        "Upper = stat['75%']+ 1.5 * IQR\n",
        "Lower = stat['25%']- 1.5 * IQR\n",
        "print('The Upper and Lower bounds for suspected outliers are {} and {}'.format(Upper,Lower))"
      ],
      "execution_count": 24,
      "outputs": [
        {
          "output_type": "stream",
          "text": [
            "count    1000000.000000\n",
            "mean         116.061818\n",
            "std           38.717936\n",
            "min            0.000000\n",
            "25%           88.000000\n",
            "50%          114.000000\n",
            "75%          141.000000\n",
            "max          301.000000\n",
            "Name: salary, dtype: float64\n",
            "The Upper and Lower bounds for suspected outliers are 220.5 and 8.5\n"
          ],
          "name": "stdout"
        }
      ]
    },
    {
      "cell_type": "markdown",
      "metadata": {
        "id": "8YE0_SuD_9YK",
        "colab_type": "text"
      },
      "source": [
        "### 1.5.2 Identify potential outliers"
      ]
    },
    {
      "cell_type": "code",
      "metadata": {
        "id": "GVdSvNRF_9YN",
        "colab_type": "code",
        "outputId": "7170e67a-4d61-4fd7-a1c1-69b9ae5ce38e",
        "colab": {
          "base_uri": "https://localhost:8080/",
          "height": 210
        }
      },
      "source": [
        "train[train.salary <8.5]"
      ],
      "execution_count": 25,
      "outputs": [
        {
          "output_type": "execute_result",
          "data": {
            "text/html": [
              "<div>\n",
              "<style scoped>\n",
              "    .dataframe tbody tr th:only-of-type {\n",
              "        vertical-align: middle;\n",
              "    }\n",
              "\n",
              "    .dataframe tbody tr th {\n",
              "        vertical-align: top;\n",
              "    }\n",
              "\n",
              "    .dataframe thead th {\n",
              "        text-align: right;\n",
              "    }\n",
              "</style>\n",
              "<table border=\"1\" class=\"dataframe\">\n",
              "  <thead>\n",
              "    <tr style=\"text-align: right;\">\n",
              "      <th></th>\n",
              "      <th>jobId</th>\n",
              "      <th>companyId</th>\n",
              "      <th>jobType</th>\n",
              "      <th>degree</th>\n",
              "      <th>major</th>\n",
              "      <th>industry</th>\n",
              "      <th>yearsExperience</th>\n",
              "      <th>milesFromMetropolis</th>\n",
              "      <th>salary</th>\n",
              "    </tr>\n",
              "  </thead>\n",
              "  <tbody>\n",
              "    <tr>\n",
              "      <th>30559</th>\n",
              "      <td>JOB1362684438246</td>\n",
              "      <td>COMP44</td>\n",
              "      <td>JUNIOR</td>\n",
              "      <td>DOCTORAL</td>\n",
              "      <td>MATH</td>\n",
              "      <td>AUTO</td>\n",
              "      <td>11</td>\n",
              "      <td>7</td>\n",
              "      <td>0</td>\n",
              "    </tr>\n",
              "    <tr>\n",
              "      <th>495984</th>\n",
              "      <td>JOB1362684903671</td>\n",
              "      <td>COMP34</td>\n",
              "      <td>JUNIOR</td>\n",
              "      <td>NONE</td>\n",
              "      <td>NONE</td>\n",
              "      <td>OIL</td>\n",
              "      <td>1</td>\n",
              "      <td>25</td>\n",
              "      <td>0</td>\n",
              "    </tr>\n",
              "    <tr>\n",
              "      <th>652076</th>\n",
              "      <td>JOB1362685059763</td>\n",
              "      <td>COMP25</td>\n",
              "      <td>CTO</td>\n",
              "      <td>HIGH_SCHOOL</td>\n",
              "      <td>NONE</td>\n",
              "      <td>AUTO</td>\n",
              "      <td>6</td>\n",
              "      <td>60</td>\n",
              "      <td>0</td>\n",
              "    </tr>\n",
              "    <tr>\n",
              "      <th>816129</th>\n",
              "      <td>JOB1362685223816</td>\n",
              "      <td>COMP42</td>\n",
              "      <td>MANAGER</td>\n",
              "      <td>DOCTORAL</td>\n",
              "      <td>ENGINEERING</td>\n",
              "      <td>FINANCE</td>\n",
              "      <td>18</td>\n",
              "      <td>6</td>\n",
              "      <td>0</td>\n",
              "    </tr>\n",
              "    <tr>\n",
              "      <th>828156</th>\n",
              "      <td>JOB1362685235843</td>\n",
              "      <td>COMP40</td>\n",
              "      <td>VICE_PRESIDENT</td>\n",
              "      <td>MASTERS</td>\n",
              "      <td>ENGINEERING</td>\n",
              "      <td>WEB</td>\n",
              "      <td>3</td>\n",
              "      <td>29</td>\n",
              "      <td>0</td>\n",
              "    </tr>\n",
              "  </tbody>\n",
              "</table>\n",
              "</div>"
            ],
            "text/plain": [
              "                   jobId companyId  ... milesFromMetropolis salary\n",
              "30559   JOB1362684438246    COMP44  ...                   7      0\n",
              "495984  JOB1362684903671    COMP34  ...                  25      0\n",
              "652076  JOB1362685059763    COMP25  ...                  60      0\n",
              "816129  JOB1362685223816    COMP42  ...                   6      0\n",
              "828156  JOB1362685235843    COMP40  ...                  29      0\n",
              "\n",
              "[5 rows x 9 columns]"
            ]
          },
          "metadata": {
            "tags": []
          },
          "execution_count": 25
        }
      ]
    },
    {
      "cell_type": "code",
      "metadata": {
        "id": "DW-l-rmC_9YT",
        "colab_type": "code",
        "outputId": "27a19152-3393-4e1e-de5e-72e88227bb0c",
        "colab": {
          "base_uri": "https://localhost:8080/",
          "height": 177
        }
      },
      "source": [
        "train.loc[train.salary>222.5,'jobType'].value_counts()"
      ],
      "execution_count": 26,
      "outputs": [
        {
          "output_type": "execute_result",
          "data": {
            "text/plain": [
              "CEO               2893\n",
              "CFO               1308\n",
              "CTO               1298\n",
              "VICE_PRESIDENT     520\n",
              "MANAGER            188\n",
              "SENIOR              50\n",
              "JUNIOR              16\n",
              "Name: jobType, dtype: int64"
            ]
          },
          "metadata": {
            "tags": []
          },
          "execution_count": 26
        }
      ]
    },
    {
      "cell_type": "code",
      "metadata": {
        "id": "aN6UpxHA_9Ya",
        "colab_type": "code",
        "outputId": "577e8e7f-ba64-4506-860f-a7e940fb08c8",
        "colab": {
          "base_uri": "https://localhost:8080/",
          "height": 562
        }
      },
      "source": [
        "train[(train.salary >222.5) & (train.jobType == 'JUNIOR')]"
      ],
      "execution_count": 27,
      "outputs": [
        {
          "output_type": "execute_result",
          "data": {
            "text/html": [
              "<div>\n",
              "<style scoped>\n",
              "    .dataframe tbody tr th:only-of-type {\n",
              "        vertical-align: middle;\n",
              "    }\n",
              "\n",
              "    .dataframe tbody tr th {\n",
              "        vertical-align: top;\n",
              "    }\n",
              "\n",
              "    .dataframe thead th {\n",
              "        text-align: right;\n",
              "    }\n",
              "</style>\n",
              "<table border=\"1\" class=\"dataframe\">\n",
              "  <thead>\n",
              "    <tr style=\"text-align: right;\">\n",
              "      <th></th>\n",
              "      <th>jobId</th>\n",
              "      <th>companyId</th>\n",
              "      <th>jobType</th>\n",
              "      <th>degree</th>\n",
              "      <th>major</th>\n",
              "      <th>industry</th>\n",
              "      <th>yearsExperience</th>\n",
              "      <th>milesFromMetropolis</th>\n",
              "      <th>salary</th>\n",
              "    </tr>\n",
              "  </thead>\n",
              "  <tbody>\n",
              "    <tr>\n",
              "      <th>1222</th>\n",
              "      <td>JOB1362684408909</td>\n",
              "      <td>COMP40</td>\n",
              "      <td>JUNIOR</td>\n",
              "      <td>MASTERS</td>\n",
              "      <td>COMPSCI</td>\n",
              "      <td>OIL</td>\n",
              "      <td>24</td>\n",
              "      <td>5</td>\n",
              "      <td>225</td>\n",
              "    </tr>\n",
              "    <tr>\n",
              "      <th>27710</th>\n",
              "      <td>JOB1362684435397</td>\n",
              "      <td>COMP21</td>\n",
              "      <td>JUNIOR</td>\n",
              "      <td>DOCTORAL</td>\n",
              "      <td>ENGINEERING</td>\n",
              "      <td>OIL</td>\n",
              "      <td>24</td>\n",
              "      <td>3</td>\n",
              "      <td>246</td>\n",
              "    </tr>\n",
              "    <tr>\n",
              "      <th>31355</th>\n",
              "      <td>JOB1362684439042</td>\n",
              "      <td>COMP45</td>\n",
              "      <td>JUNIOR</td>\n",
              "      <td>DOCTORAL</td>\n",
              "      <td>COMPSCI</td>\n",
              "      <td>FINANCE</td>\n",
              "      <td>24</td>\n",
              "      <td>0</td>\n",
              "      <td>225</td>\n",
              "    </tr>\n",
              "    <tr>\n",
              "      <th>100042</th>\n",
              "      <td>JOB1362684507729</td>\n",
              "      <td>COMP17</td>\n",
              "      <td>JUNIOR</td>\n",
              "      <td>DOCTORAL</td>\n",
              "      <td>BUSINESS</td>\n",
              "      <td>FINANCE</td>\n",
              "      <td>23</td>\n",
              "      <td>8</td>\n",
              "      <td>248</td>\n",
              "    </tr>\n",
              "    <tr>\n",
              "      <th>160333</th>\n",
              "      <td>JOB1362684568020</td>\n",
              "      <td>COMP18</td>\n",
              "      <td>JUNIOR</td>\n",
              "      <td>DOCTORAL</td>\n",
              "      <td>BUSINESS</td>\n",
              "      <td>FINANCE</td>\n",
              "      <td>22</td>\n",
              "      <td>3</td>\n",
              "      <td>223</td>\n",
              "    </tr>\n",
              "    <tr>\n",
              "      <th>303778</th>\n",
              "      <td>JOB1362684711465</td>\n",
              "      <td>COMP51</td>\n",
              "      <td>JUNIOR</td>\n",
              "      <td>MASTERS</td>\n",
              "      <td>ENGINEERING</td>\n",
              "      <td>WEB</td>\n",
              "      <td>24</td>\n",
              "      <td>2</td>\n",
              "      <td>226</td>\n",
              "    </tr>\n",
              "    <tr>\n",
              "      <th>348354</th>\n",
              "      <td>JOB1362684756041</td>\n",
              "      <td>COMP56</td>\n",
              "      <td>JUNIOR</td>\n",
              "      <td>DOCTORAL</td>\n",
              "      <td>ENGINEERING</td>\n",
              "      <td>OIL</td>\n",
              "      <td>23</td>\n",
              "      <td>25</td>\n",
              "      <td>226</td>\n",
              "    </tr>\n",
              "    <tr>\n",
              "      <th>500739</th>\n",
              "      <td>JOB1362684908426</td>\n",
              "      <td>COMP40</td>\n",
              "      <td>JUNIOR</td>\n",
              "      <td>DOCTORAL</td>\n",
              "      <td>ENGINEERING</td>\n",
              "      <td>OIL</td>\n",
              "      <td>21</td>\n",
              "      <td>0</td>\n",
              "      <td>227</td>\n",
              "    </tr>\n",
              "    <tr>\n",
              "      <th>627534</th>\n",
              "      <td>JOB1362685035221</td>\n",
              "      <td>COMP5</td>\n",
              "      <td>JUNIOR</td>\n",
              "      <td>DOCTORAL</td>\n",
              "      <td>ENGINEERING</td>\n",
              "      <td>OIL</td>\n",
              "      <td>24</td>\n",
              "      <td>29</td>\n",
              "      <td>230</td>\n",
              "    </tr>\n",
              "    <tr>\n",
              "      <th>645555</th>\n",
              "      <td>JOB1362685053242</td>\n",
              "      <td>COMP36</td>\n",
              "      <td>JUNIOR</td>\n",
              "      <td>DOCTORAL</td>\n",
              "      <td>BUSINESS</td>\n",
              "      <td>FINANCE</td>\n",
              "      <td>24</td>\n",
              "      <td>1</td>\n",
              "      <td>225</td>\n",
              "    </tr>\n",
              "    <tr>\n",
              "      <th>685775</th>\n",
              "      <td>JOB1362685093462</td>\n",
              "      <td>COMP38</td>\n",
              "      <td>JUNIOR</td>\n",
              "      <td>BACHELORS</td>\n",
              "      <td>ENGINEERING</td>\n",
              "      <td>OIL</td>\n",
              "      <td>24</td>\n",
              "      <td>13</td>\n",
              "      <td>225</td>\n",
              "    </tr>\n",
              "    <tr>\n",
              "      <th>743326</th>\n",
              "      <td>JOB1362685151013</td>\n",
              "      <td>COMP14</td>\n",
              "      <td>JUNIOR</td>\n",
              "      <td>DOCTORAL</td>\n",
              "      <td>BUSINESS</td>\n",
              "      <td>FINANCE</td>\n",
              "      <td>19</td>\n",
              "      <td>0</td>\n",
              "      <td>236</td>\n",
              "    </tr>\n",
              "    <tr>\n",
              "      <th>787674</th>\n",
              "      <td>JOB1362685195361</td>\n",
              "      <td>COMP43</td>\n",
              "      <td>JUNIOR</td>\n",
              "      <td>DOCTORAL</td>\n",
              "      <td>BUSINESS</td>\n",
              "      <td>FINANCE</td>\n",
              "      <td>18</td>\n",
              "      <td>15</td>\n",
              "      <td>232</td>\n",
              "    </tr>\n",
              "    <tr>\n",
              "      <th>796956</th>\n",
              "      <td>JOB1362685204643</td>\n",
              "      <td>COMP30</td>\n",
              "      <td>JUNIOR</td>\n",
              "      <td>MASTERS</td>\n",
              "      <td>BUSINESS</td>\n",
              "      <td>OIL</td>\n",
              "      <td>24</td>\n",
              "      <td>2</td>\n",
              "      <td>228</td>\n",
              "    </tr>\n",
              "    <tr>\n",
              "      <th>855219</th>\n",
              "      <td>JOB1362685262906</td>\n",
              "      <td>COMP13</td>\n",
              "      <td>JUNIOR</td>\n",
              "      <td>MASTERS</td>\n",
              "      <td>ENGINEERING</td>\n",
              "      <td>OIL</td>\n",
              "      <td>22</td>\n",
              "      <td>26</td>\n",
              "      <td>225</td>\n",
              "    </tr>\n",
              "    <tr>\n",
              "      <th>954368</th>\n",
              "      <td>JOB1362685362055</td>\n",
              "      <td>COMP11</td>\n",
              "      <td>JUNIOR</td>\n",
              "      <td>DOCTORAL</td>\n",
              "      <td>BUSINESS</td>\n",
              "      <td>OIL</td>\n",
              "      <td>24</td>\n",
              "      <td>26</td>\n",
              "      <td>223</td>\n",
              "    </tr>\n",
              "  </tbody>\n",
              "</table>\n",
              "</div>"
            ],
            "text/plain": [
              "                   jobId companyId  ... milesFromMetropolis salary\n",
              "1222    JOB1362684408909    COMP40  ...                   5    225\n",
              "27710   JOB1362684435397    COMP21  ...                   3    246\n",
              "31355   JOB1362684439042    COMP45  ...                   0    225\n",
              "100042  JOB1362684507729    COMP17  ...                   8    248\n",
              "160333  JOB1362684568020    COMP18  ...                   3    223\n",
              "303778  JOB1362684711465    COMP51  ...                   2    226\n",
              "348354  JOB1362684756041    COMP56  ...                  25    226\n",
              "500739  JOB1362684908426    COMP40  ...                   0    227\n",
              "627534  JOB1362685035221     COMP5  ...                  29    230\n",
              "645555  JOB1362685053242    COMP36  ...                   1    225\n",
              "685775  JOB1362685093462    COMP38  ...                  13    225\n",
              "743326  JOB1362685151013    COMP14  ...                   0    236\n",
              "787674  JOB1362685195361    COMP43  ...                  15    232\n",
              "796956  JOB1362685204643    COMP30  ...                   2    228\n",
              "855219  JOB1362685262906    COMP13  ...                  26    225\n",
              "954368  JOB1362685362055    COMP11  ...                  26    223\n",
              "\n",
              "[16 rows x 9 columns]"
            ]
          },
          "metadata": {
            "tags": []
          },
          "execution_count": 27
        }
      ]
    },
    {
      "cell_type": "markdown",
      "metadata": {
        "id": "dcfUNnRd_9Yh",
        "colab_type": "text"
      },
      "source": [
        "The observations with zero salaries don't seem to be a intern or volunteer positions. I am confident that these entries are missing or corrupt data and are supposed to be removed from training set."
      ]
    },
    {
      "cell_type": "markdown",
      "metadata": {
        "id": "qwQZaPA-_9Yi",
        "colab_type": "text"
      },
      "source": [
        "The high-salary potential outliers all appear to be plausible. Most roles are senior executive roles and the junior roles are coming from industries that are famous for high salaries (oil,finance). I determine that thest entries to be legitimate and won't remove them. "
      ]
    },
    {
      "cell_type": "code",
      "metadata": {
        "id": "IJfgUbwz_9Yl",
        "colab_type": "code",
        "colab": {}
      },
      "source": [
        "# Remove the data with zero salaries\n",
        "train = train[train.salary>8.5]"
      ],
      "execution_count": 0,
      "outputs": []
    },
    {
      "cell_type": "code",
      "metadata": {
        "id": "lOPZYlvN_9Yu",
        "colab_type": "code",
        "colab": {}
      },
      "source": [
        "def feature_plot (df,col):\n",
        "    '''Make plot for each features\n",
        "    left, the distribution of samples on the feature\n",
        "    right,the dependance of salary on the feature'''\n",
        "    plt.figure(figsize = (14,6))\n",
        "    plt.subplot(1,2,1)\n",
        "    if df[col].dtype =='int64':\n",
        "        df[col].value_counts().sort_index().plot()\n",
        "    else: \n",
        "        #change the categorical data to category type and order their level by the mean salary\n",
        "        mean= df.groupby(col)['salary'].mean()\n",
        "        df[col] = df[col].astype('category')\n",
        "        levels = mean.sort_values().index.tolist()\n",
        "        df[col].cat.reorder_categories(levels,inplace = True)\n",
        "        df[col].value_counts().plot()\n",
        "    plt.xticks(rotation=45)\n",
        "    plt.xlabel(col)\n",
        "    plt.ylabel('Counts')\n",
        "    plt.subplot(1, 2, 2)\n",
        "    if df[col].dtype =='int64' or col =='companyId':\n",
        "        #plot the mean salary for each category and fill between the (mean-std, mean+std)\n",
        "        mean = df.groupby(col)['salary'].mean()\n",
        "        std = df.groupby(col)['salary'].std()\n",
        "        mean.plot()\n",
        "        plt.fill_between(range(len(std.index)),mean.values-std.values,mean.values+ std.values, \n",
        "                        alpha = 0.1)\n",
        "    else:\n",
        "        sns.boxplot( x= col, y = 'salary',data = df)\n",
        "        plt.xticks(rotation=45)\n",
        "        plt.ylabel('Salaries')\n",
        "        plt.show()"
      ],
      "execution_count": 0,
      "outputs": []
    },
    {
      "cell_type": "code",
      "metadata": {
        "id": "zyDEjFW__9Yz",
        "colab_type": "code",
        "outputId": "51e3d4d6-787c-4363-cc20-30d7cb45decf",
        "colab": {
          "base_uri": "https://localhost:8080/",
          "height": 378
        }
      },
      "source": [
        "feature_plot(train,'companyId')"
      ],
      "execution_count": 30,
      "outputs": [
        {
          "output_type": "display_data",
          "data": {
            "image/png": "[encoded data removed]",
            "text/plain": [
              "<Figure size 1008x432 with 2 Axes>"
            ]
          },
          "metadata": {
            "tags": [],
            "needs_background": "light"
          }
        }
      ]
    },
    {
      "cell_type": "markdown",
      "metadata": {
        "id": "1ZXkt1Mz_9Y4",
        "colab_type": "text"
      },
      "source": [
        "##### The salary doesn't show the strong asscoiation with companies."
      ]
    },
    {
      "cell_type": "code",
      "metadata": {
        "id": "QuESOPnY_9Y6",
        "colab_type": "code",
        "outputId": "8946d808-fb17-4bd9-8694-a8172d8f64f6",
        "colab": {
          "base_uri": "https://localhost:8080/",
          "height": 445
        }
      },
      "source": [
        "feature_plot(train,'jobType')"
      ],
      "execution_count": 31,
      "outputs": [
        {
          "output_type": "display_data",
          "data": {
            "image/png": "[encoded data removed]",
            "text/plain": [
              "<Figure size 1008x432 with 2 Axes>"
            ]
          },
          "metadata": {
            "tags": [],
            "needs_background": "light"
          }
        }
      ]
    },
    {
      "cell_type": "markdown",
      "metadata": {
        "id": "pxoHjpmJ_9Y-",
        "colab_type": "text"
      },
      "source": [
        "##### We can see a clear positive correlation between job types and salary. "
      ]
    },
    {
      "cell_type": "code",
      "metadata": {
        "id": "PNFZzk9Y_9Y_",
        "colab_type": "code",
        "outputId": "3b87f711-fad8-4913-a220-0ad49e2ac9b2",
        "colab": {
          "base_uri": "https://localhost:8080/",
          "height": 441
        }
      },
      "source": [
        "feature_plot(train,'degree')"
      ],
      "execution_count": 32,
      "outputs": [
        {
          "output_type": "display_data",
          "data": {
            "image/png": "[encoded data removed]",
            "text/plain": [
              "<Figure size 1008x432 with 2 Axes>"
            ]
          },
          "metadata": {
            "tags": [],
            "needs_background": "light"
          }
        }
      ]
    },
    {
      "cell_type": "markdown",
      "metadata": {
        "id": "ui_3apkY_9ZH",
        "colab_type": "text"
      },
      "source": [
        "##### More advanced degrees seem to correspond to greater compensations. "
      ]
    },
    {
      "cell_type": "code",
      "metadata": {
        "id": "CMl6xr6K_9ZJ",
        "colab_type": "code",
        "outputId": "88897acd-3b0e-4713-c47e-6a01c5c7cfb2",
        "colab": {
          "base_uri": "https://localhost:8080/",
          "height": 434
        }
      },
      "source": [
        "feature_plot(train, 'major')"
      ],
      "execution_count": 33,
      "outputs": [
        {
          "output_type": "display_data",
          "data": {
            "image/png": "[encoded data removed]",
            "text/plain": [
              "<Figure size 1008x432 with 2 Axes>"
            ]
          },
          "metadata": {
            "tags": [],
            "needs_background": "light"
          }
        }
      ]
    },
    {
      "cell_type": "markdown",
      "metadata": {
        "id": "F0zTcuUK_9ZO",
        "colab_type": "text"
      },
      "source": [
        "##### People who major in Engineering,Business and math generally have higher salaries."
      ]
    },
    {
      "cell_type": "code",
      "metadata": {
        "id": "M07_T5rm_9ZP",
        "colab_type": "code",
        "outputId": "3e14426f-a45c-4c94-a5af-ea468214d338",
        "colab": {
          "base_uri": "https://localhost:8080/",
          "height": 426
        }
      },
      "source": [
        "feature_plot(train,'industry')"
      ],
      "execution_count": 34,
      "outputs": [
        {
          "output_type": "display_data",
          "data": {
            "image/png": "[encoded data removed]",
            "text/plain": [
              "<Figure size 1008x432 with 2 Axes>"
            ]
          },
          "metadata": {
            "tags": [],
            "needs_background": "light"
          }
        }
      ]
    },
    {
      "cell_type": "markdown",
      "metadata": {
        "id": "aRBZMgPl_9ZT",
        "colab_type": "text"
      },
      "source": [
        "##### Regarding industries, oil ,finance and web industries offer better generally."
      ]
    },
    {
      "cell_type": "code",
      "metadata": {
        "id": "2EibIvCa_9ZU",
        "colab_type": "code",
        "outputId": "321fa45e-f8e5-438c-a5a3-dcb81ce6362e",
        "colab": {
          "base_uri": "https://localhost:8080/",
          "height": 394
        }
      },
      "source": [
        "feature_plot(train,'yearsExperience')"
      ],
      "execution_count": 35,
      "outputs": [
        {
          "output_type": "display_data",
          "data": {
            "image/png": "[encoded data removed]",
            "text/plain": [
              "<Figure size 1008x432 with 2 Axes>"
            ]
          },
          "metadata": {
            "tags": [],
            "needs_background": "light"
          }
        }
      ]
    },
    {
      "cell_type": "markdown",
      "metadata": {
        "id": "UMvBd8bh_9Zh",
        "colab_type": "text"
      },
      "source": [
        "##### Generally speaking, it seems that salary and years of experience have a positive correlation."
      ]
    },
    {
      "cell_type": "code",
      "metadata": {
        "id": "hkvjMTpT_9Zk",
        "colab_type": "code",
        "outputId": "a94cfc5e-2b2e-4273-c913-dc8d5d6fa62d",
        "colab": {
          "base_uri": "https://localhost:8080/",
          "height": 398
        }
      },
      "source": [
        "feature_plot(train,'milesFromMetropolis')"
      ],
      "execution_count": 36,
      "outputs": [
        {
          "output_type": "display_data",
          "data": {
            "image/png": "[encoded data removed]",
            "text/plain": [
              "<Figure size 1008x432 with 2 Axes>"
            ]
          },
          "metadata": {
            "tags": [],
            "needs_background": "light"
          }
        }
      ]
    },
    {
      "cell_type": "markdown",
      "metadata": {
        "id": "vgWrM1N8_9Zq",
        "colab_type": "text"
      },
      "source": [
        "##### The graph indicates that there's a negative correlation between salaries and distances to metropolis. "
      ]
    },
    {
      "cell_type": "code",
      "metadata": {
        "id": "vIy0ZUNa_9Zs",
        "colab_type": "code",
        "colab": {}
      },
      "source": [
        "def label_encode(df,col):\n",
        "    # encode the categories using average salary for each category to replace labels \n",
        "    cat_dict = {}\n",
        "    cats = df[col].cat.categories.tolist()\n",
        "    for cat in cats:\n",
        "        cat_dict[cat] = train[train[col] == cat]['salary'].mean()\n",
        "    df[col] = df[col].map(cat_dict)"
      ],
      "execution_count": 0,
      "outputs": []
    },
    {
      "cell_type": "code",
      "metadata": {
        "id": "prRFdF0u_9Zy",
        "colab_type": "code",
        "colab": {}
      },
      "source": [
        "for col in train.columns:\n",
        "    if train[col].dtype.name ==\"category\":\n",
        "        label_encode(train,col)"
      ],
      "execution_count": 0,
      "outputs": []
    },
    {
      "cell_type": "code",
      "metadata": {
        "scrolled": false,
        "id": "kVOQx2DN_9Z9",
        "colab_type": "code",
        "outputId": "8a29dfc1-037d-4223-df08-2bc5c912d343",
        "colab": {
          "base_uri": "https://localhost:8080/",
          "height": 665
        }
      },
      "source": [
        "#Correlations between selected features and response\n",
        "#jobId is discarded because it is unique for indiviuals\n",
        "fig = plt.figure(figsize=(12,10))\n",
        "features = ['companyId', 'jobType', 'degree', 'major', 'industry','yearsExperience', 'milesFromMetropolis']\n",
        "sns.heatmap(train[features + ['salary']].corr(), cmap = 'Blues',annot =True)\n",
        "plt.xticks(rotation = 45)\n",
        "plt.show()"
      ],
      "execution_count": 39,
      "outputs": [
        {
          "output_type": "display_data",
          "data": {
            "image/png": "[encoded data removed]",
            "text/plain": [
              "<Figure size 864x720 with 2 Axes>"
            ]
          },
          "metadata": {
            "tags": [],
            "needs_background": "light"
          }
        }
      ]
    },
    {
      "cell_type": "markdown",
      "metadata": {
        "id": "uq-c594o_9aE",
        "colab_type": "text"
      },
      "source": [
        "As indicated, jobType is most strongly correlated with salary ,followed by degree,major, and yearsExperience. Among the features, we see that degree and major have a strong correlation and jobType has a moderate degree of correlation with both degree and major. "
      ]
    },
    {
      "cell_type": "markdown",
      "metadata": {
        "id": "PJ6YN84W_9aG",
        "colab_type": "text"
      },
      "source": [
        "# 2. Develop "
      ]
    },
    {
      "cell_type": "markdown",
      "metadata": {
        "id": "ALav9IhP_9aI",
        "colab_type": "text"
      },
      "source": [
        "### Utilizing MSE and RMSE to estimate the robustness of models "
      ]
    },
    {
      "cell_type": "code",
      "metadata": {
        "id": "y412-GxY_9aJ",
        "colab_type": "code",
        "colab": {}
      },
      "source": [
        "import pandas as pd\n",
        "import numpy as np\n",
        "import matplotlib.pyplot as plt\n",
        "from sklearn.ensemble import RandomForestRegressor, GradientBoostingRegressor\n",
        "from sklearn.model_selection import cross_val_score\n",
        "from sklearn.utils import shuffle\n",
        "from sklearn.metrics import mean_squared_error\n",
        "from sklearn.linear_model import LinearRegression\n",
        "from sklearn.preprocessing import LabelEncoder\n",
        "from sklearn.pipeline import make_pipeline\n",
        "from sklearn.decomposition import PCA\n",
        "from sklearn.preprocessing import StandardScaler\n",
        "from math import sqrt"
      ],
      "execution_count": 0,
      "outputs": []
    },
    {
      "cell_type": "code",
      "metadata": {
        "id": "zXsV0cYP_9aW",
        "colab_type": "code",
        "colab": {}
      },
      "source": [
        "def one_hot_encode_feature_df (df,cat_vars=None, num_vars=None):\n",
        "    '''performs one-hot encoding on all categorical variables and combines result with continous variables'''\n",
        "    cat_df = pd.get_dummies(df[cat_vars])\n",
        "    num_df = df[num_vars].apply(pd.to_numeric)\n",
        "    return pd.concat([cat_df,num_df],axis = 1)#ignore_Index = False\n",
        "def get_target_df(df,target):\n",
        "    '''return target dataframe'''\n",
        "    return df[target]\n",
        "def train_model(model,feature_df,target_df,num_procs,mean_mse,cv_std):\n",
        "    neg_mse = cross_val_score(model, feature_df,target_df,cv=5, n_jobs = num_procs, scoring = 'neg_mean_squared_error')\n",
        "    mean_mse[model] = -1.0*np.mean(neg_mse)\n",
        "    cv_std[model] = np.std(neg_mse)\n",
        "def get_summary(model,mean_mse,cv_std):\n",
        "    print('\\nModel:\\n',model)\n",
        "    print('Average MSE:\\n',mean_mse[model])\n",
        "    print('Standard Deviation during CV:\\n',cv_std[model])\n",
        "\n",
        "def save_outcomes(model,mean_mse,predictions,feature_importances):\n",
        "    '''save model,model summary,feature importance,and predictions'''\n",
        "    with open ('model.txt','w') as file:\n",
        "        file.write(str(model))\n",
        "    feature_importances.to_csv('feature_importances.csv')\n",
        "    np.savetxt('prediction.csv',predictions,delimiter = ',')\n",
        "\n",
        "\n",
        "    \n",
        "   "
      ],
      "execution_count": 0,
      "outputs": []
    },
    {
      "cell_type": "code",
      "metadata": {
        "id": "NrcgjMse_9ae",
        "colab_type": "code",
        "outputId": "736da557-9a74-4ba9-a379-656bc6f0e542",
        "colab": {
          "base_uri": "https://localhost:8080/",
          "height": 1000
        }
      },
      "source": [
        "#define imputs\n",
        "raw_train_df = train\n",
        "test_feature_file = test_feature\n",
        "    \n",
        "#define variables\n",
        "categorical_vars = ['companyId', 'jobType', 'degree', 'major', 'industry']\n",
        "numeric_vars = ['yearsExperience', 'milesFromMetropolis']\n",
        "target_var = 'salary'\n",
        "    \n",
        "#clean ,shuffle,and index training data --- shuffling may improve cross-validatation accuracy\n",
        "clean_train = shuffle(raw_train_df).reset_index() #encode categorical data and get final feature dfs\n",
        "print(\"ENCODING DATA\")\n",
        "feature_df = one_hot_encode_feature_df(clean_train,cat_vars = categorical_vars, num_vars = numeric_vars)\n",
        "test_df = one_hot_encode_feature_df(test_feature_file,cat_vars =categorical_vars, num_vars = numeric_vars)\n",
        "    \n",
        "# get target df\n",
        "target_df =get_target_df(clean_train,target_var)\n",
        "    \n",
        "#initialise model list and dicts\n",
        "models = []\n",
        "mean_mse = {}\n",
        "cv_std = {}\n",
        "res = {}\n",
        "\n",
        "    \n",
        "#define number of processes to run in parallel\n",
        "num_procs =2\n",
        "#shared model parameters \n",
        "verbose_lvl = 5 \n",
        "#create models ---hyperparameters tuning already done by hand for each model\n",
        "lr = LinearRegression()\n",
        "lr_std_pca = make_pipeline(StandardScaler(),PCA(),LinearRegression())\n",
        "rf = RandomForestRegressor(n_estimators=60,n_jobs = num_procs,max_depth=25,min_samples_split=60,\\\n",
        "                               max_features = 30, verbose = verbose_lvl)\n",
        "gbm = GradientBoostingRegressor(n_estimators = 40, max_depth = 5, loss = 'ls',verbose=verbose_lvl)\n",
        "    \n",
        "models.extend([lr,lr_std_pca,rf,gbm])\n",
        "    \n",
        "# parallel cross-validation models, using MSE as evaluation metric,and print summaries\n",
        "print(\"Beginning cross validation\")\n",
        "for model in models:\n",
        "  train_model(model,feature_df,target_df,num_procs,mean_mse,cv_std)\n",
        "  get_summary(model,mean_mse,cv_std)\n",
        "# choose model with lowest mse\n",
        "model = min(mean_mse, key = mean_mse.get)\n",
        "print('\\nPredictions calculated using model with lowest MSE:')\n",
        "print(model)\n",
        "#train model on entire dataset\n",
        "model.fit(feature_df,target_df)\n",
        "    \n",
        "#Create predictions based on test data\n",
        "predictions = model.predict(test_df)\n",
        "#Store feature importances\n",
        "if hasattr(model,'feature_importances_'):\n",
        "  importances = model.feature_importances_\n",
        "else:\n",
        "  #linear models don't have feature_importances_\n",
        "  importances = [0]*len(feature_df.columns)\n",
        "feature_importances = pd.DataFrame({'feature':feature_df.columns,'importance':importances})\n",
        "feature_importances.sort_values(by = 'importance',ascending =False, inplace= True)\n",
        "# set index to 'feature'\n",
        "feature_importances.set_index('feature',inplace =True,drop=True)\n",
        "    \n",
        "#creat plot \n",
        "feature_importances[0:25].plot.bar(figsize=(20,10))\n",
        "plt.show()\n",
        "    \n",
        "#save outcomes\n",
        "save_outcomes(model,mean_mse[model],predictions,feature_importances)   "
      ],
      "execution_count": 47,
      "outputs": [
        {
          "output_type": "stream",
          "text": [
            "ENCODING DATA\n",
            "Beginning cross validation\n",
            "\n",
            "Model:\n",
            " LinearRegression(copy_X=True, fit_intercept=True, n_jobs=None, normalize=False)\n",
            "Average MSE:\n",
            " 384.4335557165542\n",
            "Standard Deviation during CV:\n",
            " 0.9230627739689935\n"
          ],
          "name": "stdout"
        },
        {
          "output_type": "stream",
          "text": [
            "/usr/local/lib/python3.6/dist-packages/joblib/externals/loky/process_executor.py:691: UserWarning: A worker stopped while some jobs were given to the executor. This can be caused by a too short worker timeout or by a memory leak.\n",
            "  \"timeout or by a memory leak.\", UserWarning\n"
          ],
          "name": "stderr"
        },
        {
          "output_type": "stream",
          "text": [
            "\n",
            "Model:\n",
            " Pipeline(memory=None,\n",
            "         steps=[('standardscaler',\n",
            "                 StandardScaler(copy=True, with_mean=True, with_std=True)),\n",
            "                ('pca',\n",
            "                 PCA(copy=True, iterated_power='auto', n_components=None,\n",
            "                     random_state=None, svd_solver='auto', tol=0.0,\n",
            "                     whiten=False)),\n",
            "                ('linearregression',\n",
            "                 LinearRegression(copy_X=True, fit_intercept=True, n_jobs=None,\n",
            "                                  normalize=False))],\n",
            "         verbose=False)\n",
            "Average MSE:\n",
            " 384.4361979579178\n",
            "Standard Deviation during CV:\n",
            " 0.9322828722734867\n",
            "\n",
            "Model:\n",
            " RandomForestRegressor(bootstrap=True, ccp_alpha=0.0, criterion='mse',\n",
            "                      max_depth=25, max_features=30, max_leaf_nodes=None,\n",
            "                      max_samples=None, min_impurity_decrease=0.0,\n",
            "                      min_impurity_split=None, min_samples_leaf=1,\n",
            "                      min_samples_split=60, min_weight_fraction_leaf=0.0,\n",
            "                      n_estimators=60, n_jobs=2, oob_score=False,\n",
            "                      random_state=None, verbose=5, warm_start=False)\n",
            "Average MSE:\n",
            " 366.71189437641516\n",
            "Standard Deviation during CV:\n",
            " 0.8803389548716309\n",
            "\n",
            "Model:\n",
            " GradientBoostingRegressor(alpha=0.9, ccp_alpha=0.0, criterion='friedman_mse',\n",
            "                          init=None, learning_rate=0.1, loss='ls', max_depth=5,\n",
            "                          max_features=None, max_leaf_nodes=None,\n",
            "                          min_impurity_decrease=0.0, min_impurity_split=None,\n",
            "                          min_samples_leaf=1, min_samples_split=2,\n",
            "                          min_weight_fraction_leaf=0.0, n_estimators=40,\n",
            "                          n_iter_no_change=None, presort='deprecated',\n",
            "                          random_state=None, subsample=1.0, tol=0.0001,\n",
            "                          validation_fraction=0.1, verbose=5, warm_start=False)\n",
            "Average MSE:\n",
            " 398.34820495232196\n",
            "Standard Deviation during CV:\n",
            " 0.7509470724578682\n",
            "\n",
            "Predictions calculated using model with lowest MSE:\n",
            "RandomForestRegressor(bootstrap=True, ccp_alpha=0.0, criterion='mse',\n",
            "                      max_depth=25, max_features=30, max_leaf_nodes=None,\n",
            "                      max_samples=None, min_impurity_decrease=0.0,\n",
            "                      min_impurity_split=None, min_samples_leaf=1,\n",
            "                      min_samples_split=60, min_weight_fraction_leaf=0.0,\n",
            "                      n_estimators=60, n_jobs=2, oob_score=False,\n",
            "                      random_state=None, verbose=5, warm_start=False)\n"
          ],
          "name": "stdout"
        },
        {
          "output_type": "stream",
          "text": [
            "[Parallel(n_jobs=2)]: Using backend ThreadingBackend with 2 concurrent workers.\n"
          ],
          "name": "stderr"
        },
        {
          "output_type": "stream",
          "text": [
            "building tree 1 of 60building tree 2 of 60\n",
            "\n",
            "building tree 3 of 60\n",
            "building tree 4 of 60\n",
            "building tree 5 of 60\n",
            "building tree 6 of 60\n",
            "building tree 7 of 60\n",
            "building tree 8 of 60\n",
            "building tree 9 of 60\n",
            "building tree 10 of 60\n",
            "building tree 11 of 60\n",
            "building tree 12 of 60\n",
            "building tree 13 of 60\n",
            "building tree 14 of 60\n",
            "building tree 15 of 60\n"
          ],
          "name": "stdout"
        },
        {
          "output_type": "stream",
          "text": [
            "[Parallel(n_jobs=2)]: Done  14 tasks      | elapsed:  1.1min\n"
          ],
          "name": "stderr"
        },
        {
          "output_type": "stream",
          "text": [
            "building tree 16 of 60\n",
            "building tree 17 of 60\n",
            "building tree 18 of 60\n",
            "building tree 19 of 60\n",
            "building tree 20 of 60\n",
            "building tree 21 of 60\n",
            "building tree 22 of 60\n",
            "building tree 23 of 60\n",
            "building tree 24 of 60\n",
            "building tree 25 of 60\n",
            "building tree 26 of 60\n",
            "building tree 27 of 60\n",
            "building tree 28 of 60\n",
            "building tree 29 of 60\n",
            "building tree 30 of 60\n",
            "building tree 31 of 60\n",
            "building tree 32 of 60\n",
            "building tree 33 of 60\n",
            "building tree 34 of 60\n",
            "building tree 35 of 60\n",
            "building tree 36 of 60\n",
            "building tree 37 of 60\n",
            "building tree 38 of 60\n",
            "building tree 39 of 60\n",
            "building tree 40 of 60\n",
            "building tree 41 of 60\n",
            "building tree 42 of 60\n",
            "building tree 43 of 60\n",
            "building tree 44 of 60\n",
            "building tree 45 of 60\n",
            "building tree 46 of 60\n",
            "building tree 47 of 60\n",
            "building tree 48 of 60\n",
            "building tree 49 of 60\n",
            "building tree 50 of 60\n",
            "building tree 51 of 60\n",
            "building tree 52 of 60\n",
            "building tree 53 of 60\n",
            "building tree 54 of 60\n",
            "building tree 55 of 60\n",
            "building tree 56 of 60\n",
            "building tree 57 of 60\n",
            "building tree 58 of 60\n",
            "building tree 59 of 60\n",
            "building tree 60 of 60\n"
          ],
          "name": "stdout"
        },
        {
          "output_type": "stream",
          "text": [
            "[Parallel(n_jobs=2)]: Done  60 out of  60 | elapsed:  4.5min finished\n",
            "[Parallel(n_jobs=2)]: Using backend ThreadingBackend with 2 concurrent workers.\n",
            "[Parallel(n_jobs=2)]: Done  14 tasks      | elapsed:    2.7s\n",
            "[Parallel(n_jobs=2)]: Done  60 out of  60 | elapsed:   12.4s finished\n"
          ],
          "name": "stderr"
        },
        {
          "output_type": "display_data",
          "data": {
            "image/png": "[encoded data removed]",
            "text/plain": [
              "<Figure size 1440x720 with 1 Axes>"
            ]
          },
          "metadata": {
            "tags": [],
            "needs_background": "light"
          }
        }
      ]
    },
    {
      "cell_type": "code",
      "metadata": {
        "id": "4d2Jvo2h_9ak",
        "colab_type": "code",
        "colab": {
          "base_uri": "https://localhost:8080/",
          "height": 217
        },
        "outputId": "c0ff0818-3673-4b34-80a3-8ec222ecdc16"
      },
      "source": [
        "!head feature_importances.csv\n",
        "    \n",
        "   "
      ],
      "execution_count": 48,
      "outputs": [
        {
          "output_type": "stream",
          "text": [
            "feature,importance\n",
            "yearsExperience,0.18038309682885198\n",
            "jobType_70.81304462635332,0.17232796278435128\n",
            "milesFromMetropolis,0.12815922145508965\n",
            "major_102.58386446587133,0.08380170007926512\n",
            "jobType_95.33308719660974,0.07111313155191204\n",
            "jobType_145.31142509096154,0.05580949775522051\n",
            "jobType_105.48777465325772,0.03603539492641363\n",
            "industry_99.44838571898697,0.02993914780527328\n",
            "industry_130.95386285634237,0.022087938647103355\n"
          ],
          "name": "stdout"
        }
      ]
    },
    {
      "cell_type": "code",
      "metadata": {
        "id": "oXENkI5C_9ap",
        "colab_type": "code",
        "colab": {}
      },
      "source": [
        ""
      ],
      "execution_count": 0,
      "outputs": []
    }
  ]
}